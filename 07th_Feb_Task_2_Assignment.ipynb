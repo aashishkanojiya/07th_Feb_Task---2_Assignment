{
  "nbformat": 4,
  "nbformat_minor": 0,
  "metadata": {
    "colab": {
      "provenance": []
    },
    "kernelspec": {
      "name": "python3",
      "display_name": "Python 3"
    },
    "language_info": {
      "name": "python"
    }
  },
  "cells": [
    {
      "cell_type": "markdown",
      "source": [
        "Q1. You are writing code for a company. The requirement of the company is that you create a python\n",
        "function that will check whether the password entered by the user is correct or not. The function should\n",
        "take the password as input and return the string “Valid Password” if the entered password follows the\n",
        "below-given password guidelines else it should return “Invalid Password”.\n",
        "\n",
        "Note: 1. The Password should contain at least two uppercase letters and at least two lowercase letters.\n",
        "\n",
        "2.The Password should contain at least a number and three special characters.\n",
        "\n",
        "3.The length of the password should be 10 characters long."
      ],
      "metadata": {
        "id": "YC6_OlG0wY50"
      }
    },
    {
      "cell_type": "markdown",
      "source": [
        "Answer:-"
      ],
      "metadata": {
        "id": "phzGjJOrwdD2"
      }
    },
    {
      "cell_type": "code",
      "source": [
        "import re\n",
        "password = \"R@m@_f0rtu9e$\"\n",
        "flag = 0\n",
        "while True:\n",
        "    if (len(password)<=8):\n",
        "        flag = -1\n",
        "        break\n",
        "    elif not re.search(\"[a-z]\", password):\n",
        "        flag = -1\n",
        "        break\n",
        "    elif not re.search(\"[A-Z]\", password):\n",
        "        flag = -1\n",
        "        break\n",
        "    elif not re.search(\"[0-9]\", password):\n",
        "        flag = -1\n",
        "        break\n",
        "    elif not re.search(\"[_@$]\" , password):\n",
        "        flag = -1\n",
        "        break\n",
        "    elif re.search(\"\\s\" , password):\n",
        "        flag = -1\n",
        "        break\n",
        "    else:\n",
        "        flag = 0\n",
        "        print(\"Valid Password\")\n",
        "        break\n",
        "\n",
        "if flag == -1:\n",
        "    print(\"Not a Valid Password \")"
      ],
      "metadata": {
        "colab": {
          "base_uri": "https://localhost:8080/"
        },
        "id": "OWoGW-8zzpuW",
        "outputId": "3d9d7959-54b4-4f8f-fa8b-d0578597484b"
      },
      "execution_count": 19,
      "outputs": [
        {
          "output_type": "stream",
          "name": "stdout",
          "text": [
            "Valid Password\n"
          ]
        }
      ]
    },
    {
      "cell_type": "markdown",
      "source": [
        "Q2. Solve the below-given questions using at least one of the following:\n",
        "\n",
        "1.Lambda function\n",
        "\n",
        "2.Filter function\n",
        "\n",
        "3.Map function\n",
        "\n",
        "4.List ComprehensioI\n",
        "\n",
        "B Check if the string starts with a particular letterY\n",
        "\n",
        "B Check if the string is numericY\n",
        "\n",
        "B Sort a list of tuples having fruit names and their quantity. [(\"mango\",99),(\"orange\",80), (\"grapes\", 1000)-\n",
        "\n",
        "B Find the squares of numbers from 1 to 10Y\n",
        "\n",
        "B Find the cube root of numbers from 1 to 10Y\n",
        "\n",
        "B Check if a given number is evenY\n",
        "\n",
        "B Filter odd numbers from the given list.\n",
        "\n",
        "[1,2,3,4,5,6,7,8,9,10-\n",
        "\n",
        "B Sort a list of integers into positive and negative integers lists.\n",
        "\n",
        "[1,2,3,4,5,6,-1,-2,-3,-4,-5,0]"
      ],
      "metadata": {
        "id": "NxPYAmD1yNUY"
      }
    },
    {
      "cell_type": "markdown",
      "source": [
        "Answer:-"
      ],
      "metadata": {
        "id": "9PUuS7lSyNRF"
      }
    },
    {
      "cell_type": "code",
      "source": [
        "# Checking if string starts with letter H using lambda function\n",
        "# Used lower function for case unification\n",
        "string_starts_with_h = lambda s : s[0].lower()=='h'\n",
        "\n",
        "# Examples\n",
        "print(string_starts_with_h('Hot'))\n",
        "print(string_starts_with_h('hard'))\n",
        "print(string_starts_with_h('Ashish'))"
      ],
      "metadata": {
        "colab": {
          "base_uri": "https://localhost:8080/"
        },
        "id": "9oq0Df1Kyiox",
        "outputId": "c50eb00e-b37e-4901-d702-a52a996f40d8"
      },
      "execution_count": 7,
      "outputs": [
        {
          "output_type": "stream",
          "name": "stdout",
          "text": [
            "True\n",
            "True\n",
            "False\n"
          ]
        }
      ]
    },
    {
      "cell_type": "code",
      "source": [
        "# Checking wether string is numeric using 2 lambda functions\n",
        "is_numeric = lambda q: q.replace('.','',1).isdigit()\n",
        "is_numeric_including_negative = lambda r: is_numeric(r[1:]) if r[0]=='-' else is_numeric(r)\n",
        "print(is_numeric_including_negative('-123.34569'))\n",
        "print(is_numeric_including_negative('asf1234'))\n",
        "print(is_numeric_including_negative('1234-'))\n",
        "print(is_numeric_including_negative('95'))\n",
        "print(is_numeric_including_negative('-13'))\n",
        "print(is_numeric_including_negative('123.123.34'))"
      ],
      "metadata": {
        "colab": {
          "base_uri": "https://localhost:8080/"
        },
        "id": "_LXh_5oEyrnA",
        "outputId": "638dfcd3-8e00-4f3d-adb7-40f27bfd6400"
      },
      "execution_count": 8,
      "outputs": [
        {
          "output_type": "stream",
          "name": "stdout",
          "text": [
            "True\n",
            "False\n",
            "False\n",
            "True\n",
            "True\n",
            "False\n"
          ]
        }
      ]
    },
    {
      "cell_type": "code",
      "source": [
        "# using lambda function and inbuilt function sorted\n",
        "fruits = [('mango',99),('orange',80),('grapes',1000)]\n",
        "sorted_fruits = sorted(fruits,key = lambda x:x[1])\n",
        "sorted_fruits"
      ],
      "metadata": {
        "colab": {
          "base_uri": "https://localhost:8080/"
        },
        "id": "9-Rep0rsyrjY",
        "outputId": "a4eda80a-ce44-4383-df03-06b522df9d82"
      },
      "execution_count": 9,
      "outputs": [
        {
          "output_type": "execute_result",
          "data": {
            "text/plain": [
              "[('orange', 80), ('mango', 99), ('grapes', 1000)]"
            ]
          },
          "metadata": {},
          "execution_count": 9
        }
      ]
    },
    {
      "cell_type": "code",
      "source": [
        "# Using list comprehension\n",
        "sqr = [i*i for i in range(1,11)]\n",
        "sqr"
      ],
      "metadata": {
        "colab": {
          "base_uri": "https://localhost:8080/"
        },
        "id": "FRni5fa7yxm6",
        "outputId": "32989a63-0d4b-484a-ed22-9c6bce1504e8"
      },
      "execution_count": 10,
      "outputs": [
        {
          "output_type": "execute_result",
          "data": {
            "text/plain": [
              "[1, 4, 9, 16, 25, 36, 49, 64, 81, 100]"
            ]
          },
          "metadata": {},
          "execution_count": 10
        }
      ]
    },
    {
      "cell_type": "code",
      "source": [
        "# Using Map and Lambda function\n",
        "cube_roots = map(lambda x : x**(1/3), range(1,11))\n",
        "list(cube_roots)"
      ],
      "metadata": {
        "colab": {
          "base_uri": "https://localhost:8080/"
        },
        "id": "gsCGSOXfyxkd",
        "outputId": "95821f52-b9a9-4452-90d2-2ddf0c2c9b73"
      },
      "execution_count": 11,
      "outputs": [
        {
          "output_type": "execute_result",
          "data": {
            "text/plain": [
              "[1.0,\n",
              " 1.2599210498948732,\n",
              " 1.4422495703074083,\n",
              " 1.5874010519681994,\n",
              " 1.7099759466766968,\n",
              " 1.8171205928321397,\n",
              " 1.912931182772389,\n",
              " 2.0,\n",
              " 2.080083823051904,\n",
              " 2.154434690031884]"
            ]
          },
          "metadata": {},
          "execution_count": 11
        }
      ]
    },
    {
      "cell_type": "code",
      "source": [
        "# Using Lambda function\n",
        "is_even = lambda x : x%2==0\n",
        "print(is_even(1))\n",
        "print(is_even(2))\n",
        "print(is_even(3))\n",
        "print(is_even(4))\n",
        "print(is_even(5))\n",
        "print(is_even(7))"
      ],
      "metadata": {
        "colab": {
          "base_uri": "https://localhost:8080/"
        },
        "id": "BJf7u2C2yxh8",
        "outputId": "fd4388e9-64e5-4d34-a780-96a37f519420"
      },
      "execution_count": 12,
      "outputs": [
        {
          "output_type": "stream",
          "name": "stdout",
          "text": [
            "False\n",
            "True\n",
            "False\n",
            "True\n",
            "False\n",
            "False\n"
          ]
        }
      ]
    },
    {
      "cell_type": "markdown",
      "source": [
        "Filter odd numbers from given list : [1,2,3,4,5,6,7,8,9,10]"
      ],
      "metadata": {
        "id": "bmy0or8IzIIM"
      }
    },
    {
      "cell_type": "code",
      "source": [
        "# Using filter and lambda function\n",
        "lst = [1,2,3,4,5,6,7,8,9,10]\n",
        "list(filter(lambda x: x%2 != 0,lst))"
      ],
      "metadata": {
        "colab": {
          "base_uri": "https://localhost:8080/"
        },
        "id": "3c61d7vSyxe9",
        "outputId": "d6dd284b-8c73-45d2-bc73-fefe131b16f9"
      },
      "execution_count": 13,
      "outputs": [
        {
          "output_type": "execute_result",
          "data": {
            "text/plain": [
              "[1, 3, 5, 7, 9]"
            ]
          },
          "metadata": {},
          "execution_count": 13
        }
      ]
    },
    {
      "cell_type": "markdown",
      "source": [
        "Sort a list of integers into positive and negative integers list : [1,2,3,4,5,6,-1,-2,-3,-4,-5,0]"
      ],
      "metadata": {
        "id": "07dHgx6jzKnw"
      }
    },
    {
      "cell_type": "code",
      "source": [
        "# Using list comprehension\n",
        "# Please note that 0 is neither positive nor negative according to mathematical definition\n",
        "# Used sorted function to sort in ascending order\n",
        "lst = [1,2,3,4,5,6,-1,-2,-3,-4,-5,0]\n",
        "positive_list = sorted([i for i in lst if i>0])\n",
        "negative_list = sorted([i for i in lst if i<0])\n",
        "print(positive_list)\n",
        "print(negative_list)"
      ],
      "metadata": {
        "colab": {
          "base_uri": "https://localhost:8080/"
        },
        "id": "iU1FKSKCy8uc",
        "outputId": "411677d8-fd6f-4e3c-9c2f-9d8a9dbf425b"
      },
      "execution_count": 14,
      "outputs": [
        {
          "output_type": "stream",
          "name": "stdout",
          "text": [
            "[1, 2, 3, 4, 5, 6]\n",
            "[-5, -4, -3, -2, -1]\n"
          ]
        }
      ]
    },
    {
      "cell_type": "markdown",
      "source": [
        "Note: 0 is not Shown in above example because it is neither positive , nor negative according to Mathematical Definition"
      ],
      "metadata": {
        "id": "lWOu_3YXzF0V"
      }
    }
  ]
}